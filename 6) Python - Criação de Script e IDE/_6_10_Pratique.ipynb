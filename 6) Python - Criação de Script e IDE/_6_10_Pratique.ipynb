{
  "nbformat": 4,
  "nbformat_minor": 0,
  "metadata": {
    "colab": {
      "provenance": [],
      "collapsed_sections": [
        "5SukVe3o6eS5"
      ]
    },
    "kernelspec": {
      "name": "python3",
      "display_name": "Python 3"
    },
    "language_info": {
      "name": "python"
    }
  },
  "cells": [
    {
      "cell_type": "markdown",
      "source": [
        "# 6.10 Pratique"
      ],
      "metadata": {
        "id": "5SukVe3o6eS5"
      }
    },
    {
      "cell_type": "markdown",
      "source": [
        "**Chegou a hora de demonstrar que compreendeu o conteúdo deste módulo! Nesta tarefa, você deverá responder as perguntas abaixo:**\n",
        "\n",
        "## - **Pergunta 1**\n",
        "\n",
        "Explique a diferença entre linguagens compiladas e linguagens interpretadas, dando exemplos de cada uma.\n",
        "\n",
        "\n"
      ],
      "metadata": {
        "id": "hnpzvW7z6YsI"
      }
    },
    {
      "cell_type": "markdown",
      "source": [
        "*Resposta:*\n",
        "\n",
        "- A linguagem **compilada** reune a programação em um arquivo executável. Ex.: o arquivo de instalação e execução de um jogo. O Super Mário por exemplo.\n",
        "\n",
        "- Já a linguagem **interpretada** reune a programação com o código fonte executado linha por linha por um interpretador durante a execução. Ex.: o mesmo arquivo de instalação e execução de um jogo citado antes, porém aberto num interpretador como Python, permitindo a depuração e edição do jogo."
      ],
      "metadata": {
        "id": "daNXQym77Qv6"
      }
    },
    {
      "cell_type": "markdown",
      "source": [
        "## - **Pergunta 2**\n",
        "\n",
        "Compare as vantagens e desvantagens de usar uma IDE em vez do terminal para executar scripts Python. Dê exemplos específicos para justificar sua resposta.\n",
        "\n"
      ],
      "metadata": {
        "id": "V0NOxvw37TII"
      }
    },
    {
      "cell_type": "markdown",
      "source": [
        "*Resposta:*\n",
        "\n",
        "- Nas IDES disponíveis a interface de uso é mais amigável e intuitiva, pensada na facilitar a experiência de programação com algumas vantagens: visualizador de projetos, instalação de paths, depuração com apontamento de erros e até correções, autocompletar e etc."
      ],
      "metadata": {
        "id": "iCY3x9z37Zah"
      }
    },
    {
      "cell_type": "markdown",
      "source": [
        "## - **Pergunta 3**\n",
        "\n",
        "Explique os conceitos de compilador e interpretador para a linguagem de programação.\n",
        "\n"
      ],
      "metadata": {
        "id": "Taa-t5eS7aVd"
      }
    },
    {
      "cell_type": "markdown",
      "source": [
        "*Resposta:*\n",
        "\n",
        "- **Compilador:** Reúne o código-fonte completo e traduz para linguagem de máquina antes da execução e produz un arquivo executável independente.\n",
        "\n",
        "- **Interpretador:** Reúne o código-fonte e executa linha por linha durante o processo de execução. Não gera um arquivo executável independente, precisando portanto do interpretador para rodar."
      ],
      "metadata": {
        "id": "iwAEC3G37dXL"
      }
    },
    {
      "cell_type": "markdown",
      "source": [
        "## - **Pergunta 4**\n",
        "\n",
        "Cite as principais diferenças e funcionalidades que você observou com relação ao Jupyter Notebook e o Pycharm.\n",
        "\n"
      ],
      "metadata": {
        "id": "DJd8sJRB7dti"
      }
    },
    {
      "cell_type": "markdown",
      "source": [
        "*Resposta:*\n",
        "\n",
        "- Jupyter Notebook:\n",
        "\n",
        "  Funcionalidades principais:\n",
        "  \n",
        "      Divide o código em células executáveis individualmente.\n",
        "\t  Suporta Markdown para documentar diretamente junto ao código.\n",
        "      Excelente para visualização de gráficos e resultados imediatos.\n",
        "\n",
        "  Desvantagens:\n",
        "\n",
        "\t  Difícil para gerenciar grandes projetos.\n",
        "\t  Menor suporte para funcionalidades avançadas de desenvolvimento.\n",
        "\n",
        "- PyCharm:\n",
        "\n",
        "  Funcionalidades principais:\n",
        "\n",
        "\t  Ferramentas avançadas para depuração, refatoração, e controle de versão.\n",
        "\t  Integração com sistemas como Git.\n",
        "\t  Ambiente robusto para gerenciar múltiplos arquivos e dependências.\n",
        "\n",
        "  Desvantagens:\n",
        "\n",
        "      Não tão interativo para análise de dados ou experimentação.\n",
        "\t  Curva de aprendizado maior."
      ],
      "metadata": {
        "id": "Bb823JSI7hFW"
      }
    }
  ]
}